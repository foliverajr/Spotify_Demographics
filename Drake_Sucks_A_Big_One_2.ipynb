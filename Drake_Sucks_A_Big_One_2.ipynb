{
 "cells": [
  {
   "cell_type": "code",
   "execution_count": null,
   "metadata": {},
   "outputs": [],
   "source": [
    "import pandas as pd\n",
    "df = pd.read_csv(\"t200_unique_streams.csv\")\n",
    "\n",
    "dict = {}\n",
    "features = df['featured-artist']\n",
    "index = 0\n",
    "for feature in features:    \n",
    "    if pd.isnull(feature) == True:\n",
    "        index +=1\n",
    "        continue\n",
    "    #print(df.loc[index]['Track Name'])\n",
    "    song = df['Track Name'][index]\n",
    "    feature_list = feature.split(', ')\n",
    "    \n",
    "    for fe in feature_list:\n",
    "        if fe not in dict:\n",
    "            dict[fe]=[song]\n",
    "        else:\n",
    "            dict[fe].append(song)\n",
    "    index +=1\n",
    "dict"
   ]
  },
  {
   "cell_type": "code",
   "execution_count": null,
   "metadata": {
    "scrolled": true
   },
   "outputs": [],
   "source": [
    "featured_Drake = df.loc[df['featured-artist']=='Drake']\n",
    "\n",
    "Bad_Bunny = df.loc[df['Artist']=='Bad Bunny']\n",
    "Chris_Brown = df.loc[df['Artist']=='Chris Brown']\n",
    "Meek_Mill = df.loc[df['Artist']=='Meek Mill']\n",
    "PARTYNEXTDOOR =df.loc[df['Artist']=='PARTYNEXTDOOR']\n",
    "Rick_Ross = df.loc[df['Artist']=='Rick Ross']\n",
    "Swae_Lee = df.loc[df['Artist']=='Swae Lee']\n",
    "French_Montana = df.loc[df['Artist']=='French Montana']\n",
    "Summer_Walker = df.loc[df['Artist']=='Summer Walker']\n",
    "BlocBoy_JB = df.loc[df['Artist']=='BlocBoy JB']\n",
    "Lil_Baby = df.loc[df['Artist']=='Lil Baby']\n",
    "\n",
    "Bad_Bunny_ft = Bad_Bunny.loc[(Bad_Bunny['featured-artist'] != 'Drake') & (pd.notnull(Bad_Bunny['featured-artist']))]['Streams'].describe()['mean']\n",
    "Chris_Brown_ft = Chris_Brown.loc[(Chris_Brown['featured-artist'] != 'Drake') & (pd.notnull(Chris_Brown['featured-artist']))]['Streams'].describe()['mean']\n",
    "Meek_Mill_ft = Meek_Mill.loc[(Meek_Mill['featured-artist'] != 'Drake') & (pd.notnull(Meek_Mill['featured-artist']))]['Streams'].describe()['mean']\n",
    "PARTYNEXTDOOR_ft = PARTYNEXTDOOR.loc[(PARTYNEXTDOOR['featured-artist'] != 'Drake') & (pd.notnull(PARTYNEXTDOOR['featured-artist']))]['Streams'].describe()['mean']\n",
    "Rick_Ross_ft = Rick_Ross.loc[(Rick_Ross['featured-artist'] != 'Drake') & (pd.notnull(Rick_Ross['featured-artist']))]['Streams'].describe()['mean']\n",
    "Swae_Lee_ft = Swae_Lee.loc[(Swae_Lee['featured-artist'] != 'Drake') & (pd.notnull(Swae_Lee['featured-artist']))]['Streams'].describe()['mean']\n",
    "French_Montana_ft = French_Montana.loc[(French_Montana['featured-artist'] != 'Drake') & (pd.notnull(French_Montana['featured-artist']))]['Streams'].describe()['mean']\n",
    "Summer_Walker_ft = Summer_Walker.loc[(Summer_Walker['featured-artist'] != 'Drake') & (pd.notnull(Summer_Walker['featured-artist']))]['Streams'].describe()['mean']\n",
    "BlocBoy_JB_ft = BlocBoy_JB.loc[(BlocBoy_JB['featured-artist'] != 'Drake') & (pd.notnull(BlocBoy_JB['featured-artist']))]['Streams'].describe()['mean']\n",
    "Lil_Baby_ft = Lil_Baby.loc[(Lil_Baby['featured-artist'] != 'Drake') & (pd.notnull(Lil_Baby['featured-artist']))]['Streams'].describe()['mean']\n",
    "\n",
    "Bad_Bunny = Bad_Bunny.loc[pd.isnull(Bad_Bunny['featured-artist'])]\n",
    "Chris_Brown = Chris_Brown.loc[pd.isnull(Chris_Brown['featured-artist'])]\n",
    "Meek_Mill = Meek_Mill.loc[pd.isnull(Meek_Mill['featured-artist'])]\n",
    "PARTYNEXTDOOR = PARTYNEXTDOOR.loc[pd.isnull(PARTYNEXTDOOR['featured-artist'])]\n",
    "Rick_Ross = Rick_Ross.loc[pd.isnull(Rick_Ross['featured-artist'])]\n",
    "Swae_Lee = Swae_Lee.loc[pd.isnull(Swae_Lee['featured-artist'])]\n",
    "French_Montana = French_Montana.loc[pd.isnull(French_Montana['featured-artist'])]\n",
    "Summer_Walker = Summer_Walker.loc[pd.isnull(Summer_Walker['featured-artist'])]\n",
    "BlocBoy_JB = BlocBoy_JB.loc[pd.isnull(BlocBoy_JB['featured-artist'])]\n",
    "Lil_Baby = Lil_Baby.loc[pd.isnull(Lil_Baby['featured-artist'])]\n",
    "\n",
    "Bad_Bunny_Q3 = Bad_Bunny['Streams'].describe()['mean']\n",
    "Chris_Brown_Q3 = Chris_Brown['Streams'].describe()['mean']\n",
    "Meek_Mill_Q3 = Meek_Mill['Streams'].describe()['mean']\n",
    "PARTYNEXTDOOR_Q3 = PARTYNEXTDOOR['Streams'].describe()['mean']\n",
    "Rick_Ross_Q3 = Rick_Ross['Streams'].describe()['mean']\n",
    "Swae_Lee_Q3 = Swae_Lee['Streams'].describe()['mean']\n",
    "French_Montana_Q3 = French_Montana['Streams'].describe()['mean']\n",
    "Summer_Walker_Q3 = Summer_Walker['Streams'].describe()['mean']\n",
    "BlocBoy_JB_Q3 = BlocBoy_JB['Streams'].describe()['mean']\n",
    "Lil_Baby_Q3 = Lil_Baby['Streams'].describe()['mean']\n"
   ]
  },
  {
   "cell_type": "code",
   "execution_count": null,
   "metadata": {
    "scrolled": true
   },
   "outputs": [],
   "source": [
    "artistRow = [Bad_Bunny, Chris_Brown, Meek_Mill, PARTYNEXTDOOR, Rick_Ross, Swae_Lee, French_Montana, Summer_Walker, BlocBoy_JB, Lil_Baby]\n",
    "artists = ['Bad Bunny', 'Chris Brown', 'Meek Mill', 'PARTYNEXTDOOR', 'Rick Ross', 'Swae Lee', 'French Montana', 'Summer Walker', 'BlocBoy JB', 'Lil Baby']\n",
    "list75 = [Bad_Bunny_Q3, Chris_Brown_Q3, Meek_Mill_Q3, PARTYNEXTDOOR_Q3, Rick_Ross_Q3, Swae_Lee_Q3, French_Montana_Q3, Summer_Walker_Q3, BlocBoy_JB_Q3, Lil_Baby_Q3]\n",
    "listft = [Bad_Bunny_ft, Chris_Brown_ft, Meek_Mill_ft, PARTYNEXTDOOR_ft, Rick_Ross_ft, Swae_Lee_ft, French_Montana_ft, Summer_Walker_ft, BlocBoy_JB_ft, Lil_Baby_ft]\n",
    "streams = []\n",
    "for stream in featured_Drake['Streams']:\n",
    "    streams.append(stream)\n",
    "\n",
    "for i in range(10):\n",
    "    if pd.isnull(list75[i]):\n",
    "        list75[i] = 0\n",
    "    if pd.isnull(listft[i]):\n",
    "        listft[i] = 0    \n",
    "    print('{} sings with {} streams. {} sings with others at {}.  Drake sings with {} streams'.format(artists[i], list75[i],artists[i], listft[i], streams[i]))\n",
    "    print('------------------------------')"
   ]
  },
  {
   "cell_type": "code",
   "execution_count": null,
   "metadata": {},
   "outputs": [],
   "source": [
    "for i in range(10):\n",
    "    if (list75[i] < streams[i]):\n",
    "        print('Drake does good in {}\\'s song'.format(artists[i]))\n",
    "    else:\n",
    "        print('Drake sucks a big one')"
   ]
  },
  {
   "cell_type": "code",
   "execution_count": null,
   "metadata": {},
   "outputs": [],
   "source": []
  }
 ],
 "metadata": {
  "kernelspec": {
   "display_name": "Python 3",
   "language": "python",
   "name": "python3"
  },
  "language_info": {
   "codemirror_mode": {
    "name": "ipython",
    "version": 3
   },
   "file_extension": ".py",
   "mimetype": "text/x-python",
   "name": "python",
   "nbconvert_exporter": "python",
   "pygments_lexer": "ipython3",
   "version": "3.7.3"
  }
 },
 "nbformat": 4,
 "nbformat_minor": 2
}
