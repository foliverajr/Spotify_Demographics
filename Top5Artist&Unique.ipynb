{
 "cells": [
  {
   "cell_type": "code",
   "execution_count": 95,
   "metadata": {},
   "outputs": [],
   "source": [
    "#TOP 5 ARTIST BASED ON FREQUENCY IN TOP200 BILBOARD"
   ]
  },
  {
   "cell_type": "code",
   "execution_count": 96,
   "metadata": {},
   "outputs": [],
   "source": [
    "import pandas as pd\n",
    "import numpy as np"
   ]
  },
  {
   "cell_type": "code",
   "execution_count": 97,
   "metadata": {},
   "outputs": [
    {
     "data": {
      "text/html": [
       "<div>\n",
       "<style scoped>\n",
       "    .dataframe tbody tr th:only-of-type {\n",
       "        vertical-align: middle;\n",
       "    }\n",
       "\n",
       "    .dataframe tbody tr th {\n",
       "        vertical-align: top;\n",
       "    }\n",
       "\n",
       "    .dataframe thead th {\n",
       "        text-align: right;\n",
       "    }\n",
       "</style>\n",
       "<table border=\"1\" class=\"dataframe\">\n",
       "  <thead>\n",
       "    <tr style=\"text-align: right;\">\n",
       "      <th></th>\n",
       "      <th>Artist</th>\n",
       "      <th>Track Name</th>\n",
       "      <th>freq</th>\n",
       "    </tr>\n",
       "  </thead>\n",
       "  <tbody>\n",
       "    <tr>\n",
       "      <td>29232</td>\n",
       "      <td>Billie Eilish</td>\n",
       "      <td>when the party's over</td>\n",
       "      <td>3785</td>\n",
       "    </tr>\n",
       "    <tr>\n",
       "      <td>31181</td>\n",
       "      <td>Billie Eilish</td>\n",
       "      <td>idontwannabeyouanymore</td>\n",
       "      <td>3785</td>\n",
       "    </tr>\n",
       "    <tr>\n",
       "      <td>31201</td>\n",
       "      <td>Billie Eilish</td>\n",
       "      <td>bad guy</td>\n",
       "      <td>3785</td>\n",
       "    </tr>\n",
       "    <tr>\n",
       "      <td>72309</td>\n",
       "      <td>Billie Eilish</td>\n",
       "      <td>bury a friend</td>\n",
       "      <td>3785</td>\n",
       "    </tr>\n",
       "    <tr>\n",
       "      <td>31234</td>\n",
       "      <td>Billie Eilish</td>\n",
       "      <td>bury a friend</td>\n",
       "      <td>3785</td>\n",
       "    </tr>\n",
       "    <tr>\n",
       "      <td>...</td>\n",
       "      <td>...</td>\n",
       "      <td>...</td>\n",
       "      <td>...</td>\n",
       "    </tr>\n",
       "    <tr>\n",
       "      <td>44981</td>\n",
       "      <td>Post Malone</td>\n",
       "      <td>Psycho (feat. Ty Dolla $ign)</td>\n",
       "      <td>3516</td>\n",
       "    </tr>\n",
       "    <tr>\n",
       "      <td>44989</td>\n",
       "      <td>Post Malone</td>\n",
       "      <td>Congratulations</td>\n",
       "      <td>3516</td>\n",
       "    </tr>\n",
       "    <tr>\n",
       "      <td>44995</td>\n",
       "      <td>Post Malone</td>\n",
       "      <td>I Fall Apart</td>\n",
       "      <td>3516</td>\n",
       "    </tr>\n",
       "    <tr>\n",
       "      <td>45003</td>\n",
       "      <td>Post Malone</td>\n",
       "      <td>Goodbyes (Feat. Young Thug)</td>\n",
       "      <td>3516</td>\n",
       "    </tr>\n",
       "    <tr>\n",
       "      <td>87392</td>\n",
       "      <td>Post Malone</td>\n",
       "      <td>I Fall Apart</td>\n",
       "      <td>3516</td>\n",
       "    </tr>\n",
       "  </tbody>\n",
       "</table>\n",
       "<p>7301 rows × 3 columns</p>\n",
       "</div>"
      ],
      "text/plain": [
       "              Artist                    Track Name  freq\n",
       "29232  Billie Eilish         when the party's over  3785\n",
       "31181  Billie Eilish        idontwannabeyouanymore  3785\n",
       "31201  Billie Eilish                       bad guy  3785\n",
       "72309  Billie Eilish                 bury a friend  3785\n",
       "31234  Billie Eilish                 bury a friend  3785\n",
       "...              ...                           ...   ...\n",
       "44981    Post Malone  Psycho (feat. Ty Dolla $ign)  3516\n",
       "44989    Post Malone               Congratulations  3516\n",
       "44995    Post Malone                  I Fall Apart  3516\n",
       "45003    Post Malone   Goodbyes (Feat. Young Thug)  3516\n",
       "87392    Post Malone                  I Fall Apart  3516\n",
       "\n",
       "[7301 rows x 3 columns]"
      ]
     },
     "execution_count": 97,
     "metadata": {},
     "output_type": "execute_result"
    }
   ],
   "source": [
    "db=pd.read_csv(\"top200Test2.csv\")\n",
    "\n",
    "db2=db[['Artist','Track Name']].copy()\n",
    "db2['freq'] = db2.groupby('Artist').transform('count')\n",
    "#db2['freq'] = db2.groupby('Artist')['Track Name'].transform('count')\n",
    "#db2.to_csv('results.csv')\n",
    "db4=db2.loc[(db2['freq']>3000)]\n",
    "db4=db4.sort_values(by=['freq'],ascending=False)\n",
    "db4"
   ]
  },
  {
   "cell_type": "code",
   "execution_count": 98,
   "metadata": {},
   "outputs": [
    {
     "name": "stdout",
     "output_type": "stream",
     "text": [
      "550\n"
     ]
    }
   ],
   "source": [
    "db3=pd.unique(db2['Artist'])\n",
    "i=0\n",
    "for o in db3:\n",
    "    i=i+1\n",
    "print(str(i))"
   ]
  }
 ],
 "metadata": {
  "kernelspec": {
   "display_name": "Python 3",
   "language": "python",
   "name": "python3"
  },
  "language_info": {
   "codemirror_mode": {
    "name": "ipython",
    "version": 3
   },
   "file_extension": ".py",
   "mimetype": "text/x-python",
   "name": "python",
   "nbconvert_exporter": "python",
   "pygments_lexer": "ipython3",
   "version": "3.7.4"
  }
 },
 "nbformat": 4,
 "nbformat_minor": 2
}
